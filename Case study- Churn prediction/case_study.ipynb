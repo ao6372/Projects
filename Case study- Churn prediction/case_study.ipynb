{
 "cells": [
  {
   "cell_type": "markdown",
   "metadata": {},
   "source": []
  },
  {
   "cell_type": "code",
   "execution_count": 1,
   "metadata": {
    "collapsed": true
   },
   "outputs": [],
   "source": [
    "import numpy as np\n",
    "import pandas as pd\n",
    "from sklearn.tree import DecisionTreeClassifier\n",
    "from sklearn.tree import export_graphviz\n",
    "import matplotlib.pyplot as plt\n",
    "%matplotlib inline\n",
    "from sklearn.datasets import make_classification\n",
    "from sklearn.ensemble import ExtraTreesClassifier\n",
    "import plotly.plotly as py\n",
    "import plotly.tools as tls\n",
    "import matplotlib.patches as mpatches\n",
    "from sklearn.ensemble import RandomForestClassifier\n",
    "from sklearn.model_selection import GridSearchCV\n",
    "from sklearn.metrics import confusion_matrix, precision_score, recall_score\n",
    "from sklearn.metrics import roc_curve, auc"
   ]
  },
  {
   "cell_type": "code",
   "execution_count": 2,
   "metadata": {
    "collapsed": true
   },
   "outputs": [],
   "source": [
    "df_test = pd.read_csv('churn_test.csv')\n",
    "df_train = pd.read_csv('churn_train.csv')"
   ]
  },
  {
   "cell_type": "markdown",
   "metadata": {},
   "source": [
    "# Exploratory Data Analysis (EDA)"
   ]
  },
  {
   "cell_type": "code",
   "execution_count": 3,
   "metadata": {
    "collapsed": false
   },
   "outputs": [
    {
     "name": "stdout",
     "output_type": "stream",
     "text": [
      "The number of training data is 40000\n",
      "The number of test data is 10000\n",
      "Training data : Test date = 80% : 20%\n"
     ]
    }
   ],
   "source": [
    "print \"The number of training data is %d\" %(df_train.shape[0])\n",
    "print \"The number of test data is %d\" %(df_test.shape[0])\n",
    "print \"Training data : Test date = %d%% : %d%%\" \\\n",
    "%(float(len(df_train))/(len(df_train) + len(df_test))*100, \\\n",
    "  float(len(df_test))/(len(df_train) + len(df_test))*100)"
   ]
  },
  {
   "cell_type": "code",
   "execution_count": 4,
   "metadata": {
    "collapsed": false
   },
   "outputs": [
    {
     "data": {
      "text/plain": [
       "(40000, 12)"
      ]
     },
     "execution_count": 4,
     "metadata": {},
     "output_type": "execute_result"
    }
   ],
   "source": [
    "df_train.shape"
   ]
  },
  {
   "cell_type": "code",
   "execution_count": 5,
   "metadata": {
    "collapsed": false
   },
   "outputs": [
    {
     "data": {
      "text/html": [
       "<div>\n",
       "<table border=\"1\" class=\"dataframe\">\n",
       "  <thead>\n",
       "    <tr style=\"text-align: right;\">\n",
       "      <th></th>\n",
       "      <th>avg_dist</th>\n",
       "      <th>avg_rating_by_driver</th>\n",
       "      <th>avg_rating_of_driver</th>\n",
       "      <th>avg_surge</th>\n",
       "      <th>city</th>\n",
       "      <th>last_trip_date</th>\n",
       "      <th>phone</th>\n",
       "      <th>signup_date</th>\n",
       "      <th>surge_pct</th>\n",
       "      <th>trips_in_first_30_days</th>\n",
       "      <th>luxury_car_user</th>\n",
       "      <th>weekday_pct</th>\n",
       "    </tr>\n",
       "  </thead>\n",
       "  <tbody>\n",
       "    <tr>\n",
       "      <th>0</th>\n",
       "      <td>6.94</td>\n",
       "      <td>5.0</td>\n",
       "      <td>5.0</td>\n",
       "      <td>1.00</td>\n",
       "      <td>Astapor</td>\n",
       "      <td>2014-05-03</td>\n",
       "      <td>Android</td>\n",
       "      <td>2014-01-12</td>\n",
       "      <td>0.0</td>\n",
       "      <td>0</td>\n",
       "      <td>False</td>\n",
       "      <td>100.0</td>\n",
       "    </tr>\n",
       "    <tr>\n",
       "      <th>1</th>\n",
       "      <td>8.06</td>\n",
       "      <td>5.0</td>\n",
       "      <td>5.0</td>\n",
       "      <td>1.00</td>\n",
       "      <td>Astapor</td>\n",
       "      <td>2014-01-26</td>\n",
       "      <td>Android</td>\n",
       "      <td>2014-01-25</td>\n",
       "      <td>0.0</td>\n",
       "      <td>2</td>\n",
       "      <td>True</td>\n",
       "      <td>0.0</td>\n",
       "    </tr>\n",
       "    <tr>\n",
       "      <th>2</th>\n",
       "      <td>21.50</td>\n",
       "      <td>4.0</td>\n",
       "      <td>NaN</td>\n",
       "      <td>1.00</td>\n",
       "      <td>Winterfell</td>\n",
       "      <td>2014-05-21</td>\n",
       "      <td>iPhone</td>\n",
       "      <td>2014-01-02</td>\n",
       "      <td>0.0</td>\n",
       "      <td>1</td>\n",
       "      <td>True</td>\n",
       "      <td>100.0</td>\n",
       "    </tr>\n",
       "    <tr>\n",
       "      <th>3</th>\n",
       "      <td>9.46</td>\n",
       "      <td>5.0</td>\n",
       "      <td>NaN</td>\n",
       "      <td>2.75</td>\n",
       "      <td>Winterfell</td>\n",
       "      <td>2014-01-10</td>\n",
       "      <td>Android</td>\n",
       "      <td>2014-01-09</td>\n",
       "      <td>100.0</td>\n",
       "      <td>1</td>\n",
       "      <td>False</td>\n",
       "      <td>100.0</td>\n",
       "    </tr>\n",
       "    <tr>\n",
       "      <th>4</th>\n",
       "      <td>13.77</td>\n",
       "      <td>5.0</td>\n",
       "      <td>NaN</td>\n",
       "      <td>1.00</td>\n",
       "      <td>Winterfell</td>\n",
       "      <td>2014-05-13</td>\n",
       "      <td>iPhone</td>\n",
       "      <td>2014-01-31</td>\n",
       "      <td>0.0</td>\n",
       "      <td>0</td>\n",
       "      <td>False</td>\n",
       "      <td>100.0</td>\n",
       "    </tr>\n",
       "  </tbody>\n",
       "</table>\n",
       "</div>"
      ],
      "text/plain": [
       "   avg_dist  avg_rating_by_driver  avg_rating_of_driver  avg_surge  \\\n",
       "0      6.94                   5.0                   5.0       1.00   \n",
       "1      8.06                   5.0                   5.0       1.00   \n",
       "2     21.50                   4.0                   NaN       1.00   \n",
       "3      9.46                   5.0                   NaN       2.75   \n",
       "4     13.77                   5.0                   NaN       1.00   \n",
       "\n",
       "         city last_trip_date    phone signup_date  surge_pct  \\\n",
       "0     Astapor     2014-05-03  Android  2014-01-12        0.0   \n",
       "1     Astapor     2014-01-26  Android  2014-01-25        0.0   \n",
       "2  Winterfell     2014-05-21   iPhone  2014-01-02        0.0   \n",
       "3  Winterfell     2014-01-10  Android  2014-01-09      100.0   \n",
       "4  Winterfell     2014-05-13   iPhone  2014-01-31        0.0   \n",
       "\n",
       "   trips_in_first_30_days luxury_car_user  weekday_pct  \n",
       "0                       0           False        100.0  \n",
       "1                       2            True          0.0  \n",
       "2                       1            True        100.0  \n",
       "3                       1           False        100.0  \n",
       "4                       0           False        100.0  "
      ]
     },
     "execution_count": 5,
     "metadata": {},
     "output_type": "execute_result"
    }
   ],
   "source": [
    "df_train.head()"
   ]
  },
  {
   "cell_type": "code",
   "execution_count": 7,
   "metadata": {
    "collapsed": false
   },
   "outputs": [
    {
     "name": "stdout",
     "output_type": "stream",
     "text": [
      "<class 'pandas.core.frame.DataFrame'>\n",
      "RangeIndex: 40000 entries, 0 to 39999\n",
      "Data columns (total 12 columns):\n",
      "avg_dist                  40000 non-null float64\n",
      "avg_rating_by_driver      39838 non-null float64\n",
      "avg_rating_of_driver      33472 non-null float64\n",
      "avg_surge                 40000 non-null float64\n",
      "city                      40000 non-null object\n",
      "last_trip_date            40000 non-null object\n",
      "phone                     39681 non-null object\n",
      "signup_date               40000 non-null object\n",
      "surge_pct                 40000 non-null float64\n",
      "trips_in_first_30_days    40000 non-null int64\n",
      "luxury_car_user           40000 non-null bool\n",
      "weekday_pct               40000 non-null float64\n",
      "dtypes: bool(1), float64(6), int64(1), object(4)\n",
      "memory usage: 3.4+ MB\n"
     ]
    }
   ],
   "source": [
    "df_train.info()"
   ]
  },
  {
   "cell_type": "code",
   "execution_count": 8,
   "metadata": {
    "collapsed": false
   },
   "outputs": [
    {
     "data": {
      "text/html": [
       "<div>\n",
       "<table border=\"1\" class=\"dataframe\">\n",
       "  <thead>\n",
       "    <tr style=\"text-align: right;\">\n",
       "      <th></th>\n",
       "      <th>avg_dist</th>\n",
       "      <th>avg_rating_by_driver</th>\n",
       "      <th>avg_rating_of_driver</th>\n",
       "      <th>avg_surge</th>\n",
       "      <th>surge_pct</th>\n",
       "      <th>trips_in_first_30_days</th>\n",
       "      <th>weekday_pct</th>\n",
       "    </tr>\n",
       "  </thead>\n",
       "  <tbody>\n",
       "    <tr>\n",
       "      <th>count</th>\n",
       "      <td>40000.000000</td>\n",
       "      <td>39838.000000</td>\n",
       "      <td>33472.000000</td>\n",
       "      <td>40000.000000</td>\n",
       "      <td>40000.000000</td>\n",
       "      <td>40000.000000</td>\n",
       "      <td>40000.000000</td>\n",
       "    </tr>\n",
       "    <tr>\n",
       "      <th>mean</th>\n",
       "      <td>5.791302</td>\n",
       "      <td>4.777434</td>\n",
       "      <td>4.601697</td>\n",
       "      <td>1.074956</td>\n",
       "      <td>8.857342</td>\n",
       "      <td>2.280700</td>\n",
       "      <td>60.874382</td>\n",
       "    </tr>\n",
       "    <tr>\n",
       "      <th>std</th>\n",
       "      <td>5.708056</td>\n",
       "      <td>0.448088</td>\n",
       "      <td>0.614810</td>\n",
       "      <td>0.222427</td>\n",
       "      <td>20.014008</td>\n",
       "      <td>3.811289</td>\n",
       "      <td>37.089619</td>\n",
       "    </tr>\n",
       "    <tr>\n",
       "      <th>min</th>\n",
       "      <td>0.000000</td>\n",
       "      <td>1.000000</td>\n",
       "      <td>1.000000</td>\n",
       "      <td>1.000000</td>\n",
       "      <td>0.000000</td>\n",
       "      <td>0.000000</td>\n",
       "      <td>0.000000</td>\n",
       "    </tr>\n",
       "    <tr>\n",
       "      <th>25%</th>\n",
       "      <td>2.420000</td>\n",
       "      <td>4.700000</td>\n",
       "      <td>4.300000</td>\n",
       "      <td>1.000000</td>\n",
       "      <td>0.000000</td>\n",
       "      <td>0.000000</td>\n",
       "      <td>33.300000</td>\n",
       "    </tr>\n",
       "    <tr>\n",
       "      <th>50%</th>\n",
       "      <td>3.880000</td>\n",
       "      <td>5.000000</td>\n",
       "      <td>4.900000</td>\n",
       "      <td>1.000000</td>\n",
       "      <td>0.000000</td>\n",
       "      <td>1.000000</td>\n",
       "      <td>66.700000</td>\n",
       "    </tr>\n",
       "    <tr>\n",
       "      <th>75%</th>\n",
       "      <td>6.930000</td>\n",
       "      <td>5.000000</td>\n",
       "      <td>5.000000</td>\n",
       "      <td>1.050000</td>\n",
       "      <td>8.300000</td>\n",
       "      <td>3.000000</td>\n",
       "      <td>100.000000</td>\n",
       "    </tr>\n",
       "    <tr>\n",
       "      <th>max</th>\n",
       "      <td>160.960000</td>\n",
       "      <td>5.000000</td>\n",
       "      <td>5.000000</td>\n",
       "      <td>8.000000</td>\n",
       "      <td>100.000000</td>\n",
       "      <td>125.000000</td>\n",
       "      <td>100.000000</td>\n",
       "    </tr>\n",
       "  </tbody>\n",
       "</table>\n",
       "</div>"
      ],
      "text/plain": [
       "           avg_dist  avg_rating_by_driver  avg_rating_of_driver     avg_surge  \\\n",
       "count  40000.000000          39838.000000          33472.000000  40000.000000   \n",
       "mean       5.791302              4.777434              4.601697      1.074956   \n",
       "std        5.708056              0.448088              0.614810      0.222427   \n",
       "min        0.000000              1.000000              1.000000      1.000000   \n",
       "25%        2.420000              4.700000              4.300000      1.000000   \n",
       "50%        3.880000              5.000000              4.900000      1.000000   \n",
       "75%        6.930000              5.000000              5.000000      1.050000   \n",
       "max      160.960000              5.000000              5.000000      8.000000   \n",
       "\n",
       "          surge_pct  trips_in_first_30_days   weekday_pct  \n",
       "count  40000.000000            40000.000000  40000.000000  \n",
       "mean       8.857342                2.280700     60.874382  \n",
       "std       20.014008                3.811289     37.089619  \n",
       "min        0.000000                0.000000      0.000000  \n",
       "25%        0.000000                0.000000     33.300000  \n",
       "50%        0.000000                1.000000     66.700000  \n",
       "75%        8.300000                3.000000    100.000000  \n",
       "max      100.000000              125.000000    100.000000  "
      ]
     },
     "execution_count": 8,
     "metadata": {},
     "output_type": "execute_result"
    }
   ],
   "source": [
    "df_train.describe()"
   ]
  },
  {
   "cell_type": "code",
   "execution_count": 9,
   "metadata": {
    "collapsed": false
   },
   "outputs": [],
   "source": [
    "def check_null(df):\n",
    "    count_nan = len(df) - df.count()\n",
    "    print \"The null ratio in PERCENTAGE (%):\"\n",
    "    print (count_nan)/len(df)*100"
   ]
  },
  {
   "cell_type": "code",
   "execution_count": 10,
   "metadata": {
    "collapsed": false
   },
   "outputs": [
    {
     "name": "stdout",
     "output_type": "stream",
     "text": [
      "The null ratio in PERCENTAGE (%):\n",
      "avg_dist                   0.0000\n",
      "avg_rating_by_driver       0.4050\n",
      "avg_rating_of_driver      16.3200\n",
      "avg_surge                  0.0000\n",
      "city                       0.0000\n",
      "last_trip_date             0.0000\n",
      "phone                      0.7975\n",
      "signup_date                0.0000\n",
      "surge_pct                  0.0000\n",
      "trips_in_first_30_days     0.0000\n",
      "luxury_car_user            0.0000\n",
      "weekday_pct                0.0000\n",
      "dtype: float64\n"
     ]
    }
   ],
   "source": [
    "check_null(df_train)"
   ]
  },
  {
   "cell_type": "code",
   "execution_count": 11,
   "metadata": {
    "collapsed": false
   },
   "outputs": [
    {
     "name": "stdout",
     "output_type": "stream",
     "text": [
      "2014-07-01 00:00:00\n"
     ]
    }
   ],
   "source": [
    "last_date = pd.to_datetime(df_train['last_trip_date'])\n",
    "last_date_max_global = last_date.max()\n",
    "print last_date_max_global"
   ]
  },
  {
   "cell_type": "markdown",
   "metadata": {},
   "source": [
    "# Data Engineering"
   ]
  },
  {
   "cell_type": "markdown",
   "metadata": {},
   "source": [
    "## Add one lable column df['Churn?'] based on the difference of the last data wrt the pull date 07/01/2014: 1 means churn (diff > 30); 0 means active"
   ]
  },
  {
   "cell_type": "code",
   "execution_count": 12,
   "metadata": {
    "collapsed": true
   },
   "outputs": [],
   "source": [
    "def add_churn_column(df):\n",
    "    last_date = pd.to_datetime(df['last_trip_date'])\n",
    "    last_date_diff = (last_date_max_global - last_date)/np.timedelta64(1, 'D')\n",
    "#     print last_date_diff \n",
    "    df['Churn?'] =  (last_date_diff > 30) * 1"
   ]
  },
  {
   "cell_type": "markdown",
   "metadata": {},
   "source": [
    "## Convert column['phone'], whose original values are \"iphone/Android\", to binary 0/1. Due to small percentage of null values(0.8%), null values are randomly replaced with 0 or 1 based on the ratio of iphone/Android."
   ]
  },
  {
   "cell_type": "code",
   "execution_count": 13,
   "metadata": {
    "collapsed": false
   },
   "outputs": [],
   "source": [
    "ipercent = len(df_train[df_train['phone']=='iPhone'])/float(len(df_train))\n",
    "def phone_binary(df):    \n",
    "    b_loon = {'iPhone':0,'Android':1}\n",
    "    df['phone'] = df['phone'].map(b_loon)\n",
    "    df['phone'].fillna(np.random.choice(2, p = [ipercent,1-ipercent]), inplace=True)"
   ]
  },
  {
   "cell_type": "markdown",
   "metadata": {},
   "source": [
    "## Fill null in column ['avg_rating_by_driver'] and ['avg_rating_of_driver'] with average values"
   ]
  },
  {
   "cell_type": "code",
   "execution_count": 14,
   "metadata": {
    "collapsed": false
   },
   "outputs": [],
   "source": [
    "def ave_rates(df):\n",
    "    for rating in ['avg_rating_by_driver', 'avg_rating_of_driver']:\n",
    "        meanl = []\n",
    "        for city in ['Astapor','Winterfell', \"King's Landing\"]:        \n",
    "            test = df_train[df_train['city'] == city][rating]\n",
    "            test2 = test[~np.isnan(test)]\n",
    "            mean_val = test2.median()\n",
    "            meanl.append(mean_val)\n",
    "        mean_val2 = np.array(meanl).mean()\n",
    "        df[rating].fillna(mean_val2, inplace=True)"
   ]
  },
  {
   "cell_type": "markdown",
   "metadata": {},
   "source": [
    "## Convert column['luxury_car_user'] True/False to 1/0"
   ]
  },
  {
   "cell_type": "code",
   "execution_count": 15,
   "metadata": {
    "collapsed": false
   },
   "outputs": [],
   "source": [
    "def luxury(df):\n",
    "    df['luxury_car_user'] = (df['luxury_car_user'] == True) * 1"
   ]
  },
  {
   "cell_type": "markdown",
   "metadata": {},
   "source": [
    "## Add dummy columns for ['city'] and remove column ['city']"
   ]
  },
  {
   "cell_type": "code",
   "execution_count": 16,
   "metadata": {
    "collapsed": true
   },
   "outputs": [],
   "source": [
    "def city_cat(df):\n",
    "    dummies = pd.get_dummies(df['city'], drop_first=True)\n",
    "    df = df.join(dummies)\n",
    "    del df['city']\n",
    "    return df"
   ]
  },
  {
   "cell_type": "markdown",
   "metadata": {},
   "source": [
    "# Apply data engineering to both training and test data"
   ]
  },
  {
   "cell_type": "code",
   "execution_count": 17,
   "metadata": {
    "collapsed": false
   },
   "outputs": [],
   "source": [
    "add_churn_column(df_train)\n",
    "add_churn_column(df_test)"
   ]
  },
  {
   "cell_type": "code",
   "execution_count": 18,
   "metadata": {
    "collapsed": false
   },
   "outputs": [],
   "source": [
    "phone_binary(df_train)\n",
    "phone_binary(df_test)"
   ]
  },
  {
   "cell_type": "code",
   "execution_count": 19,
   "metadata": {
    "collapsed": false,
    "scrolled": true
   },
   "outputs": [],
   "source": [
    "ave_rates(df_train)\n",
    "ave_rates(df_test)"
   ]
  },
  {
   "cell_type": "code",
   "execution_count": 20,
   "metadata": {
    "collapsed": false
   },
   "outputs": [],
   "source": [
    "luxury(df_test)\n",
    "luxury(df_train)"
   ]
  },
  {
   "cell_type": "code",
   "execution_count": 21,
   "metadata": {
    "collapsed": false
   },
   "outputs": [],
   "source": [
    "df_train = city_cat(df_train)\n",
    "df_test = city_cat(df_test)"
   ]
  },
  {
   "cell_type": "markdown",
   "metadata": {},
   "source": [
    "# Delete column ['last_trip_date'] and ['signup_date'] to avoid data leakage"
   ]
  },
  {
   "cell_type": "code",
   "execution_count": 22,
   "metadata": {
    "collapsed": false
   },
   "outputs": [],
   "source": [
    "del df_train['last_trip_date']\n",
    "del df_train['signup_date']\n",
    "del df_test['last_trip_date']\n",
    "del df_test['signup_date']"
   ]
  },
  {
   "cell_type": "code",
   "execution_count": 23,
   "metadata": {
    "collapsed": false
   },
   "outputs": [
    {
     "name": "stdout",
     "output_type": "stream",
     "text": [
      "The null ratio in PERCENTAGE (%):\n",
      "avg_dist                  0.0\n",
      "avg_rating_by_driver      0.0\n",
      "avg_rating_of_driver      0.0\n",
      "avg_surge                 0.0\n",
      "phone                     0.0\n",
      "surge_pct                 0.0\n",
      "trips_in_first_30_days    0.0\n",
      "luxury_car_user           0.0\n",
      "weekday_pct               0.0\n",
      "Churn?                    0.0\n",
      "King's Landing            0.0\n",
      "Winterfell                0.0\n",
      "dtype: float64\n"
     ]
    }
   ],
   "source": [
    "check_null(df_test)"
   ]
  },
  {
   "cell_type": "code",
   "execution_count": 24,
   "metadata": {
    "collapsed": false
   },
   "outputs": [
    {
     "data": {
      "text/plain": [
       "(40000, 12)"
      ]
     },
     "execution_count": 24,
     "metadata": {},
     "output_type": "execute_result"
    }
   ],
   "source": [
    "df_train.shape"
   ]
  },
  {
   "cell_type": "markdown",
   "metadata": {},
   "source": [
    "## Make a copy of dataset with lable column['Churn?']"
   ]
  },
  {
   "cell_type": "code",
   "execution_count": 25,
   "metadata": {
    "collapsed": true
   },
   "outputs": [],
   "source": [
    "df_train_bu = df_train.copy()\n",
    "df_test_bu = df_test.copy()"
   ]
  },
  {
   "cell_type": "code",
   "execution_count": 26,
   "metadata": {
    "collapsed": false
   },
   "outputs": [
    {
     "data": {
      "text/html": [
       "<div>\n",
       "<table border=\"1\" class=\"dataframe\">\n",
       "  <thead>\n",
       "    <tr style=\"text-align: right;\">\n",
       "      <th></th>\n",
       "      <th>avg_dist</th>\n",
       "      <th>avg_rating_by_driver</th>\n",
       "      <th>avg_rating_of_driver</th>\n",
       "      <th>avg_surge</th>\n",
       "      <th>phone</th>\n",
       "      <th>surge_pct</th>\n",
       "      <th>trips_in_first_30_days</th>\n",
       "      <th>luxury_car_user</th>\n",
       "      <th>weekday_pct</th>\n",
       "      <th>Churn?</th>\n",
       "      <th>King's Landing</th>\n",
       "      <th>Winterfell</th>\n",
       "    </tr>\n",
       "  </thead>\n",
       "  <tbody>\n",
       "    <tr>\n",
       "      <th>0</th>\n",
       "      <td>6.94</td>\n",
       "      <td>5.0</td>\n",
       "      <td>5.000000</td>\n",
       "      <td>1.00</td>\n",
       "      <td>1.0</td>\n",
       "      <td>0.0</td>\n",
       "      <td>0</td>\n",
       "      <td>0</td>\n",
       "      <td>100.0</td>\n",
       "      <td>1</td>\n",
       "      <td>0</td>\n",
       "      <td>0</td>\n",
       "    </tr>\n",
       "    <tr>\n",
       "      <th>1</th>\n",
       "      <td>8.06</td>\n",
       "      <td>5.0</td>\n",
       "      <td>5.000000</td>\n",
       "      <td>1.00</td>\n",
       "      <td>1.0</td>\n",
       "      <td>0.0</td>\n",
       "      <td>2</td>\n",
       "      <td>1</td>\n",
       "      <td>0.0</td>\n",
       "      <td>1</td>\n",
       "      <td>0</td>\n",
       "      <td>0</td>\n",
       "    </tr>\n",
       "    <tr>\n",
       "      <th>2</th>\n",
       "      <td>21.50</td>\n",
       "      <td>4.0</td>\n",
       "      <td>4.933333</td>\n",
       "      <td>1.00</td>\n",
       "      <td>0.0</td>\n",
       "      <td>0.0</td>\n",
       "      <td>1</td>\n",
       "      <td>1</td>\n",
       "      <td>100.0</td>\n",
       "      <td>1</td>\n",
       "      <td>0</td>\n",
       "      <td>1</td>\n",
       "    </tr>\n",
       "    <tr>\n",
       "      <th>3</th>\n",
       "      <td>9.46</td>\n",
       "      <td>5.0</td>\n",
       "      <td>4.933333</td>\n",
       "      <td>2.75</td>\n",
       "      <td>1.0</td>\n",
       "      <td>100.0</td>\n",
       "      <td>1</td>\n",
       "      <td>0</td>\n",
       "      <td>100.0</td>\n",
       "      <td>1</td>\n",
       "      <td>0</td>\n",
       "      <td>1</td>\n",
       "    </tr>\n",
       "    <tr>\n",
       "      <th>4</th>\n",
       "      <td>13.77</td>\n",
       "      <td>5.0</td>\n",
       "      <td>4.933333</td>\n",
       "      <td>1.00</td>\n",
       "      <td>0.0</td>\n",
       "      <td>0.0</td>\n",
       "      <td>0</td>\n",
       "      <td>0</td>\n",
       "      <td>100.0</td>\n",
       "      <td>1</td>\n",
       "      <td>0</td>\n",
       "      <td>1</td>\n",
       "    </tr>\n",
       "  </tbody>\n",
       "</table>\n",
       "</div>"
      ],
      "text/plain": [
       "   avg_dist  avg_rating_by_driver  avg_rating_of_driver  avg_surge  phone  \\\n",
       "0      6.94                   5.0              5.000000       1.00    1.0   \n",
       "1      8.06                   5.0              5.000000       1.00    1.0   \n",
       "2     21.50                   4.0              4.933333       1.00    0.0   \n",
       "3      9.46                   5.0              4.933333       2.75    1.0   \n",
       "4     13.77                   5.0              4.933333       1.00    0.0   \n",
       "\n",
       "   surge_pct  trips_in_first_30_days  luxury_car_user  weekday_pct  Churn?  \\\n",
       "0        0.0                       0                0        100.0       1   \n",
       "1        0.0                       2                1          0.0       1   \n",
       "2        0.0                       1                1        100.0       1   \n",
       "3      100.0                       1                0        100.0       1   \n",
       "4        0.0                       0                0        100.0       1   \n",
       "\n",
       "   King's Landing  Winterfell  \n",
       "0               0           0  \n",
       "1               0           0  \n",
       "2               0           1  \n",
       "3               0           1  \n",
       "4               0           1  "
      ]
     },
     "execution_count": 26,
     "metadata": {},
     "output_type": "execute_result"
    }
   ],
   "source": [
    "df_train_bu.head()"
   ]
  },
  {
   "cell_type": "markdown",
   "metadata": {},
   "source": [
    "# Random Forest \n",
    "## Feature importance"
   ]
  },
  {
   "cell_type": "code",
   "execution_count": 27,
   "metadata": {
    "collapsed": false
   },
   "outputs": [],
   "source": [
    "y_train = df_train.pop('Churn?')\n",
    "x_train = df_train.values\n",
    "y_test  = df_test.pop('Churn?')\n",
    "x_test  = df_test.values\n",
    "y_train = y_train.values.reshape(-1,1)\n",
    "y_test = y_test.values.reshape(-1,1)"
   ]
  },
  {
   "cell_type": "code",
   "execution_count": 28,
   "metadata": {
    "collapsed": false
   },
   "outputs": [],
   "source": [
    "feature_list = df_train.columns.values"
   ]
  },
  {
   "cell_type": "code",
   "execution_count": 29,
   "metadata": {
    "collapsed": false
   },
   "outputs": [
    {
     "name": "stderr",
     "output_type": "stream",
     "text": [
      "/Users/miyan/anaconda/lib/python2.7/site-packages/ipykernel/__main__.py:4: DataConversionWarning:\n",
      "\n",
      "A column-vector y was passed when a 1d array was expected. Please change the shape of y to (n_samples,), for example using ravel().\n",
      "\n"
     ]
    },
    {
     "name": "stdout",
     "output_type": "stream",
     "text": [
      "Feature ranking:\n",
      "1. feature 0 (0.284057): avg_dist\n",
      "2. feature 8 (0.152851): avg_rating_by_driver\n",
      "3. feature 6 (0.097910): avg_rating_of_driver\n",
      "4. feature 1 (0.096452): avg_surge\n",
      "5. feature 2 (0.090038): phone\n",
      "6. feature 5 (0.068584): surge_pct\n",
      "7. feature 9 (0.065495): trips_in_first_30_days\n",
      "8. feature 3 (0.053729): luxury_car_user\n",
      "9. feature 4 (0.043670): weekday_pct\n",
      "10. feature 7 (0.036715): King's Landing\n",
      "11. feature 10 (0.010498): Winterfell\n"
     ]
    }
   ],
   "source": [
    "forest = ExtraTreesClassifier(n_estimators=250,\n",
    "                              random_state=0)\n",
    "\n",
    "forest.fit(x_train, y_train)\n",
    "importances = forest.feature_importances_\n",
    "std = np.std([tree.feature_importances_ for tree in forest.estimators_],\n",
    "             axis=0)\n",
    "indices = np.argsort(importances)[::-1]\n",
    "\n",
    "# Print the feature ranking\n",
    "print(\"Feature ranking:\")\n",
    "\n",
    "for f in range(x_train.shape[1]):\n",
    "    print(\"%d. feature %d (%f): %s\" % (f + 1, indices[f], importances[indices[f]], \\\n",
    "                                       feature_list[f]))\n",
    "\n"
   ]
  },
  {
   "cell_type": "code",
   "execution_count": 30,
   "metadata": {
    "collapsed": false
   },
   "outputs": [
    {
     "data": {
      "image/png": "[encoded data removed]",
      "text/plain": [
       "<matplotlib.figure.Figure at 0x114abc110>"
      ]
     },
     "metadata": {},
     "output_type": "display_data"
    }
   ],
   "source": [
    "# Plot the feature importances of the forest\n",
    "mpl_fig = plt.figure(figsize=(10, 8))\n",
    "ax = mpl_fig.add_subplot(111)\n",
    "# plt.figure()\n",
    "ax.set_title(\"Feature importances\", fontsize=18)\n",
    "ax.bar(range(x_train.shape[1]), importances[indices],\n",
    "       color=\"r\", yerr=std[indices], align=\"center\")\n",
    "ax.set_xticks(range(x_train.shape[1]))\n",
    "ax.set_xlim([-1, x_train.shape[1]])\n",
    "ax.set_xlabel(\"Feature\", fontsize=18)\n",
    "ax.set_ylabel(\"Importance\", fontsize=18)\n",
    "ax.set_xticklabels((feature_list), rotation=45, fontsize=14, ha = 'right')\n",
    "plt.show()"
   ]
  },
  {
   "cell_type": "markdown",
   "metadata": {},
   "source": [
    "## Let's study the most important feature \"avg_dist\""
   ]
  },
  {
   "cell_type": "code",
   "execution_count": 31,
   "metadata": {
    "collapsed": false
   },
   "outputs": [
    {
     "name": "stdout",
     "output_type": "stream",
     "text": [
      "(24968,)\n",
      "(15032,)\n"
     ]
    }
   ],
   "source": [
    "train_avg_dist_churn = df_train_bu[df_train_bu[\"Churn?\"] == 1.0]['avg_dist']\n",
    "train_avg_dist_activ = df_train_bu[df_train_bu[\"Churn?\"] == 0]['avg_dist']\n",
    "print train_avg_dist_churn.shape\n",
    "print train_avg_dist_activ.shape"
   ]
  },
  {
   "cell_type": "code",
   "execution_count": 32,
   "metadata": {
    "collapsed": true
   },
   "outputs": [],
   "source": [
    "num_set = 30\n",
    "for i in xrange(num_set):\n",
    "    if i == 0:        \n",
    "        num_churn = [float(len(train_avg_dist_churn[train_avg_dist_churn < 1]))]\n",
    "        num_activ = [float(len(train_avg_dist_activ[train_avg_dist_activ < 1]))]\n",
    "    elif i != (num_set - 1):\n",
    "        num_churn.append(float(len(train_avg_dist_churn[(train_avg_dist_churn < (i + 1)) &\\\n",
    "                                                 (train_avg_dist_churn >= i)])))\n",
    "        num_activ.append(float(len(train_avg_dist_activ[(train_avg_dist_activ < (i + 1)) &\\\n",
    "                                                 (train_avg_dist_activ >= i)])))\n",
    "    else:\n",
    "        num_churn.append(float(len(train_avg_dist_churn[(train_avg_dist_churn >= (i))])))\n",
    "        num_activ.append(float(len(train_avg_dist_activ[(train_avg_dist_activ >= (i))])))"
   ]
  },
  {
   "cell_type": "code",
   "execution_count": 33,
   "metadata": {
    "collapsed": true
   },
   "outputs": [],
   "source": [
    "num_churn_pct = list(np.array(num_churn)/(np.array(num_churn) + np.array(num_activ)))\n",
    "num_activ_pct = list(np.array(num_activ)/(np.array(num_churn) + np.array(num_activ)))"
   ]
  },
  {
   "cell_type": "code",
   "execution_count": 34,
   "metadata": {
    "collapsed": false
   },
   "outputs": [
    {
     "data": {
      "image/png": "[encoded data removed]",
      "text/plain": [
       "<matplotlib.figure.Figure at 0x113b56350>"
      ]
     },
     "metadata": {},
     "output_type": "display_data"
    }
   ],
   "source": [
    "mpl_fig = plt.figure(figsize=(10, 8))\n",
    "ax = mpl_fig.add_subplot(111)\n",
    "\n",
    "N = len(num_activ)\n",
    "\n",
    "ind = np.arange(N)    # the x locations for the groups\n",
    "width = 0.8       # the width of the bars: can also be len(x) sequence\n",
    "\n",
    "p1 = ax.bar(ind[:-1], num_churn[:-1], width, color=(0.2588,0.4433,1.0))\n",
    "p2 = ax.bar(ind[:-1], num_activ[:-1], width, color=(1.0,0.5,0.62), bottom=num_churn[:-1])\n",
    "ax.set_ylabel('Count', fontsize = 18)\n",
    "ax.set_xlabel('Avg Distance [mile]', fontsize = 18)\n",
    "ax.set_title('Count by Avg Distance')\n",
    "\n",
    "ax.set_xticks(np.arange(0, num_set-1, 1))\n",
    "ax.set_yticks(np.arange(0, 8000, 1000))\n",
    "ax.set_xticklabels((xrange(1,N)))\n",
    "ax.set_xlim([-0.5, num_set-1.5])\n",
    "\n",
    "red_patch = mpatches.Patch(color=(1.0,0.5,0.62), label='active')\n",
    "blue_patch = mpatches.Patch(color=(0.2588,0.4433,1.0), label='churn')\n",
    "ax.legend(handles=[red_patch, blue_patch], prop={'size':19})\n",
    "\n",
    "plt.show()"
   ]
  },
  {
   "cell_type": "code",
   "execution_count": 35,
   "metadata": {
    "collapsed": false
   },
   "outputs": [
    {
     "data": {
      "image/png": "[encoded data removed]",
      "text/plain": [
       "<matplotlib.figure.Figure at 0x1151f8310>"
      ]
     },
     "metadata": {},
     "output_type": "display_data"
    }
   ],
   "source": [
    "\n",
    "mpl_fig = plt.figure(figsize=(10, 8))\n",
    "ax = mpl_fig.add_subplot(111)\n",
    "\n",
    "N = len(num_activ)\n",
    "# num_churn = (20, 35, 30, 35, 27)\n",
    "# num_activ = (25, 32, 34, 20, 25)\n",
    "ind = np.arange(N)    # the x locations for the groups\n",
    "width = 0.8       # the width of the bars: can also be len(x) sequence\n",
    "\n",
    "p1 = ax.bar(ind[:-1], num_churn_pct[:-1], width, color=(0.2588,0.4433,1.0))\n",
    "p2 = ax.bar(ind[:-1], num_activ_pct[:-1], width, color=(1.0,0.5,0.62),\n",
    "             bottom=num_churn_pct[:-1])\n",
    "ax.set_ylabel('Count Percent (%)', fontsize = 18)\n",
    "ax.set_xlabel('Avg Distance [mile]', fontsize = 18)\n",
    "ax.set_title('Scaled Count by Avg Distance', fontsize = 18)\n",
    "\n",
    "ax.set_xticks(np.arange(0, num_set-1, 1))\n",
    "ax.set_yticks(np.arange(0, 1.2, 0.3))\n",
    "ax.set_xticklabels((xrange(1,N)))\n",
    "ax.set_xlim([-0.5, num_set-1.5])\n",
    "\n",
    "red_patch = mpatches.Patch(color=(1.0,0.5,0.62), label='active')\n",
    "blue_patch = mpatches.Patch(color=(0.2588,0.4433,1.0), label='churn')\n",
    "ax.legend(handles=[red_patch, blue_patch], prop={'size':19})\n",
    "\n",
    "plt.show()"
   ]
  },
  {
   "cell_type": "markdown",
   "metadata": {
    "collapsed": true
   },
   "source": [
    "## Model fitting"
   ]
  },
  {
   "cell_type": "code",
   "execution_count": 47,
   "metadata": {
    "collapsed": false
   },
   "outputs": [
    {
     "name": "stdout",
     "output_type": "stream",
     "text": [
      "Best coarse params: {'max_features': 3, 'min_samples_leaf': 10} \n"
     ]
    }
   ],
   "source": [
    "coarse_RF_search = RandomForestClassifier(n_estimators = 200, n_jobs=-1)\n",
    "param_grid = {'max_features':[2, 3, 4, 5],  #suggested value is sqrt(number of features, 11 here) \n",
    "       'min_samples_leaf':[10, 20, 30, 40]}\n",
    "GS_search = GridSearchCV(estimator=coarse_RF_search, param_grid = param_grid, cv=5)\n",
    "y_train=y_train.reshape(-1,)\n",
    "GS_search.fit(x_train,y_train)\n",
    "print \"Best coarse params: %s \" % GS_search.best_params_"
   ]
  },
  {
   "cell_type": "code",
   "execution_count": 48,
   "metadata": {
    "collapsed": false
   },
   "outputs": [
    {
     "name": "stdout",
     "output_type": "stream",
     "text": [
      "Best fine params: {'max_features': 3, 'min_samples_leaf': 14} \n"
     ]
    }
   ],
   "source": [
    "fine_RF_search = RandomForestClassifier(n_estimators = 200, n_jobs=-1)\n",
    "param_grid = {'max_features':[3],  #suggested value is sqrt(number of features, 11 here) \n",
    "       'min_samples_leaf':[6, 8, 10, 12, 14]}\n",
    "GS_search = GridSearchCV(estimator=fine_RF_search, param_grid = param_grid, cv=5)\n",
    "y_train=y_train.reshape(-1,)\n",
    "GS_search.fit(x_train,y_train)\n",
    "print \"Best fine params: %s \" % GS_search.best_params_"
   ]
  },
  {
   "cell_type": "code",
   "execution_count": 50,
   "metadata": {
    "collapsed": true
   },
   "outputs": [],
   "source": [
    "def oob_error_plot(n_estimator_begin, n_estimator_end, step = 2):\n",
    "    oob_error = []\n",
    "    test_error = []\n",
    "    for i in xrange(n_estimator_begin, n_estimator_end, step):\n",
    "        rf = RandomForestClassifier(n_estimators=i, \n",
    "                                    n_jobs=-1, \n",
    "                                    oob_score=True,\n",
    "                                    max_features = 3,\n",
    "                                    min_samples_leaf = 14)\n",
    "        rf.fit(x_train, y_train)\n",
    "        oob_error_temp = 1 - rf.oob_score_\n",
    "        test_error_temp = 1- rf.score(x_test, y_test)\n",
    "        oob_error.append(oob_error_temp)\n",
    "        test_error.append(test_error_temp)\n",
    "    \n",
    "    mpl_fig = plt.figure(figsize=(6, 4))\n",
    "    plt.plot(range(n_estimator_begin, n_estimator_end, step), oob_error, \\\n",
    "           color=\"r\")\n",
    "    plt.xlabel(\"n_estimators\")\n",
    "    plt.ylabel(\"OOB error rate\")\n",
    "    plt.show()"
   ]
  },
  {
   "cell_type": "code",
   "execution_count": 51,
   "metadata": {
    "collapsed": false
   },
   "outputs": [
    {
     "data": {
      "image/png": "[encoded data removed]",
      "text/plain": [
       "<matplotlib.figure.Figure at 0x113b95850>"
      ]
     },
     "metadata": {},
     "output_type": "display_data"
    }
   ],
   "source": [
    "oob_error_plot(10,80,10)"
   ]
  },
  {
   "cell_type": "markdown",
   "metadata": {},
   "source": [
    "## Conclusion: select number of trees = 50"
   ]
  },
  {
   "cell_type": "code",
   "execution_count": 52,
   "metadata": {
    "collapsed": true
   },
   "outputs": [],
   "source": [
    "RF_final = RandomForestClassifier(n_estimators = 50, n_jobs=-1, oob_score=True,\n",
    "                              max_features=3, min_samples_leaf=14)"
   ]
  },
  {
   "cell_type": "markdown",
   "metadata": {},
   "source": [
    "# Final model and metric"
   ]
  },
  {
   "cell_type": "code",
   "execution_count": 53,
   "metadata": {
    "collapsed": false
   },
   "outputs": [
    {
     "data": {
      "text/plain": [
       "RandomForestClassifier(bootstrap=True, class_weight=None, criterion='gini',\n",
       "            max_depth=None, max_features=3, max_leaf_nodes=None,\n",
       "            min_impurity_split=1e-07, min_samples_leaf=14,\n",
       "            min_samples_split=2, min_weight_fraction_leaf=0.0,\n",
       "            n_estimators=50, n_jobs=-1, oob_score=True, random_state=None,\n",
       "            verbose=0, warm_start=False)"
      ]
     },
     "execution_count": 53,
     "metadata": {},
     "output_type": "execute_result"
    }
   ],
   "source": [
    "RF_final.fit(x_train,y_train)"
   ]
  },
  {
   "cell_type": "code",
   "execution_count": 54,
   "metadata": {
    "collapsed": false
   },
   "outputs": [
    {
     "name": "stdout",
     "output_type": "stream",
     "text": [
      "Accuracy score:   0.7777\n",
      "Out of bag score: 0.78595\n",
      "Precision:        0.79609640692\n",
      "Recall:           0.86448298009\n"
     ]
    }
   ],
   "source": [
    "print \"Accuracy score:  \", RF_final.score(x_test, y_test)\n",
    "print \"Out of bag score:\", RF_final.oob_score_\n",
    "y_predict = RF_final.predict(x_test)\n",
    "print 'Precision:       ', precision_score(y_test, y_predict)\n",
    "print 'Recall:          ', recall_score(y_test, y_predict)"
   ]
  },
  {
   "cell_type": "code",
   "execution_count": 55,
   "metadata": {
    "collapsed": true
   },
   "outputs": [],
   "source": [
    "confu_mat = confusion_matrix(y_test, y_predict)"
   ]
  },
  {
   "cell_type": "code",
   "execution_count": 45,
   "metadata": {
    "collapsed": false
   },
   "outputs": [
    {
     "name": "stdout",
     "output_type": "stream",
     "text": [
      "Confution Matrix\n",
      " --------------------------------------------------\n",
      "|               | Pred Churn (1) | Pred Active (0) |\n",
      " --------------------------------------------------\n",
      "| Act Churn (1) |      5389      |       839       |\n",
      "| Act Active(0) |      1373      |       2399      |\n",
      " --------------------------------------------------\n"
     ]
    }
   ],
   "source": [
    "print 'Confution Matrix'\n",
    "print ' --------------------------------------------------'\n",
    "print '|               | Pred Churn (1) | Pred Active (0) |'\n",
    "print ' --------------------------------------------------'\n",
    "print '| Act Churn (1) |      %d      |       %d       |' %(confu_mat[1,1], confu_mat[1, 0])\n",
    "print '| Act Active(0) |      %d      |       %d      |' %(confu_mat[0,1], confu_mat[0, 0])\n",
    "print ' --------------------------------------------------'"
   ]
  },
  {
   "cell_type": "markdown",
   "metadata": {},
   "source": [
    "## ROC curve"
   ]
  },
  {
   "cell_type": "code",
   "execution_count": 56,
   "metadata": {
    "collapsed": false
   },
   "outputs": [
    {
     "data": {
      "image/png": "[encoded data removed]",
      "text/plain": [
       "<matplotlib.figure.Figure at 0x15c830890>"
      ]
     },
     "metadata": {},
     "output_type": "display_data"
    }
   ],
   "source": [
    "fpr, tpr, thresholds = roc_curve(y_test, RF_final.predict_proba(x_test)[:,1])\n",
    "roc_auc = auc(fpr, tpr)\n",
    "fig = plt.figure(figsize=(6,6))\n",
    "ax = fig.add_subplot(1,1,1)\n",
    "\n",
    "ax.plot(fpr, tpr, lw=2, c='b')\n",
    "ax.plot([0 ,1], [0, 1], 'k--')\n",
    "ax.set_xlim([0, 1])\n",
    "ax.set_ylim([0, 1])\n",
    "ax.set_xlabel('False positive rate', fontsize = 15)\n",
    "ax.set_ylabel('True positive rate', fontsize = 15)\n",
    "ax.set_title('ROC curve', fontsize = 18)\n",
    "plt.show()"
   ]
  },
  {
   "cell_type": "code",
   "execution_count": null,
   "metadata": {
    "collapsed": true
   },
   "outputs": [],
   "source": []
  }
 ],
 "metadata": {
  "anaconda-cloud": {},
  "kernelspec": {
   "display_name": "Python 2",
   "language": "python",
   "name": "python2"
  },
  "language_info": {
   "codemirror_mode": {
    "name": "ipython",
    "version": 2
   },
   "file_extension": ".py",
   "mimetype": "text/x-python",
   "name": "python",
   "nbconvert_exporter": "python",
   "pygments_lexer": "ipython2",
   "version": "2.7.13"
  }
 },
 "nbformat": 4,
 "nbformat_minor": 2
}
